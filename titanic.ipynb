{
  "nbformat": 4,
  "nbformat_minor": 0,
  "metadata": {
    "colab": {
      "name": "Untitled0.ipynb",
      "provenance": [],
      "collapsed_sections": [],
      "authorship_tag": "ABX9TyOjEOKhG5dnQvv2I1VLUZCZ",
      "include_colab_link": true
    },
    "kernelspec": {
      "name": "python3",
      "display_name": "Python 3"
    },
    "accelerator": "TPU"
  },
  "cells": [
    {
      "cell_type": "markdown",
      "metadata": {
        "id": "view-in-github",
        "colab_type": "text"
      },
      "source": [
        "<a href=\"https://colab.research.google.com/github/sukstar76/kaggle_titanic/blob/master/titanic.ipynb\" target=\"_parent\"><img src=\"https://colab.research.google.com/assets/colab-badge.svg\" alt=\"Open In Colab\"/></a>"
      ]
    },
    {
      "cell_type": "code",
      "metadata": {
        "id": "tNbGM9evkBor",
        "colab_type": "code",
        "colab": {}
      },
      "source": [
        "from google.colab import drive\n",
        "drive.mount('/gdrive')\n"
      ],
      "execution_count": 0,
      "outputs": []
    },
    {
      "cell_type": "code",
      "metadata": {
        "id": "c6duqKJUljYD",
        "colab_type": "code",
        "colab": {}
      },
      "source": [
        "import pandas as pd"
      ],
      "execution_count": 0,
      "outputs": []
    },
    {
      "cell_type": "code",
      "metadata": {
        "id": "xR4GVpbTlngJ",
        "colab_type": "code",
        "colab": {}
      },
      "source": [
        "train = pd.read_csv('/gdrive/My Drive/titanic/train.csv')\n",
        "test = pd.read_csv('/gdrive/My Drive/titanic/test.csv')\n",
        "total_set = [train,test]"
      ],
      "execution_count": 0,
      "outputs": []
    },
    {
      "cell_type": "code",
      "metadata": {
        "id": "lP_lSMK_nUSp",
        "colab_type": "code",
        "colab": {}
      },
      "source": [
        "for dataset in total_set:\n",
        "  dataset['Sex'] = dataset['Sex'].map({'female':1,'male':0}).astype(int)\n",
        "\n",
        "  dataset['Name']=dataset['Name'].map(lambda x: x.split(',')[1].split('.')[0].strip())\n",
        "  dataset['Name'] = dataset['Name'].replace(['Lady', 'Countess','Capt', 'Col', 'Don', 'Dr', 'Major', 'Rev', 'Sir', 'Jonkheer', 'Dona'], 'Other')\n",
        "  dataset['Name'] = dataset['Name'].replace('Mlle', 'Miss')\n",
        "  dataset['Name'] = dataset['Name'].replace('Ms', 'Miss')\n",
        "  dataset['Name'] = dataset['Name'].replace('Mme', 'Mrs')\n",
        "  dataset['Name'] = dataset['Name'].map({'Mr':1,'Miss':2,'Mrs':3,'Master':4,'Other':5})\n",
        "  dataset['Name'] = dataset['Name'].fillna(0)\n",
        "  \n",
        "  dataset['Embarked'] = dataset['Embarked'].fillna('S')\n",
        "  dataset['Embarked'] = dataset['Embarked'].map( {'S': 0, 'C': 1, 'Q': 2} ).astype(int)\n",
        "\n",
        "  dataset['Age'].fillna(dataset['Age'].mean(), inplace=True)\n",
        "  dataset['Age'] = dataset['Age'].astype(int)\n",
        "  dataset.loc[ dataset['Age'] <= 16, 'Age'] = 0\n",
        "  dataset.loc[(dataset['Age'] > 16) & (dataset['Age'] <= 32), 'Age'] = 1\n",
        "  dataset.loc[(dataset['Age'] > 32) & (dataset['Age'] <= 48), 'Age'] = 2\n",
        "  dataset.loc[(dataset['Age'] > 48) & (dataset['Age'] <= 64), 'Age'] = 3\n",
        "  dataset.loc[ dataset['Age'] > 64, 'Age'] = 4\n",
        "\n",
        "  dataset['Fare'] = dataset['Fare'].fillna(train['Fare'].median())\n",
        "  dataset.loc[ dataset['Fare'] <= 7.91, 'Fare'] = 0\n",
        "  dataset.loc[(dataset['Fare'] > 7.91) & (dataset['Fare'] <= 14.454), 'Fare'] = 1\n",
        "  dataset.loc[(dataset['Fare'] > 14.454) & (dataset['Fare'] <= 31), 'Fare']   = 2\n",
        "  dataset.loc[ dataset['Fare'] > 31, 'Fare'] = 3\n",
        "  dataset['Fare'] = dataset['Fare'].astype(int)\n",
        "\n",
        "  dataset[\"Family\"] = dataset[\"Parch\"] + dataset[\"SibSp\"]\n",
        "  dataset['Family'] = dataset['Family'].astype(int)\n",
        "  dataset.loc[dataset['Family'] == 0, 'Family'] = 0\n",
        "  dataset.loc[dataset['Family'] >= 1, 'Family'] = 1"
      ],
      "execution_count": 0,
      "outputs": []
    },
    {
      "cell_type": "code",
      "metadata": {
        "id": "cj9t1_kggxeC",
        "colab_type": "code",
        "colab": {}
      },
      "source": [
        "y =train['Survived']\n",
        "train = train.drop(['SibSp','Parch','Ticket','Cabin'],axis =1)\n",
        "test = test.drop(['SibSp','Parch','Ticket','Cabin'],axis =1)\n",
        "\n",
        "x_train = train.drop(['PassengerId','Survived'],axis=1)\n",
        "x_test = test.drop(['PassengerId'],axis=1).copy()\n"
      ],
      "execution_count": 0,
      "outputs": []
    },
    {
      "cell_type": "code",
      "metadata": {
        "id": "um16vUOkkNh0",
        "colab_type": "code",
        "colab": {}
      },
      "source": [
        "from sklearn.linear_model import LogisticRegression\n",
        "from sklearn.svm import SVC\n",
        "from sklearn.tree import DecisionTreeClassifier\n",
        "from sklearn.ensemble import RandomForestClassifier,VotingClassifier ,GradientBoostingClassifier\n",
        "from sklearn.model_selection import KFold,GridSearchCV\n",
        "##log_clf = LogisticRegression()\n",
        "kfold = KFold(n_splits=10)\n",
        "\n",
        "svc_clf = SVC(probability=True)\n",
        "svc_param = {'kernel':['rbf'], 'gamma':[0.001,0.01,0.1,1],'C':[1,50,100,200,500,1000] }\n",
        "gs_svc = GridSearchCV(svc_clf,param_grid = svc_param, cv=kfold, scoring=\"accuracy\", verbose = 1)\n",
        "gs_svc.fit(x_train,y)\n",
        "svc_best = gs_svc.best_estimator_\n",
        "##dt_clf = DecisionTreeClassifier()\n",
        "gb_clf = GradientBoostingClassifier()\n",
        "gb_param = {'loss' : [\"deviance\"],'n_estimators' : [100,200,300],'learning_rate': [0.1, 0.05, 0.01],'max_depth': [4, 8],'min_samples_leaf': [100,150]}\n",
        "gs_gbc = GridSearchCV(gb_clf,param_grid = gb_param, cv=kfold, scoring=\"accuracy\",verbose = 1)\n",
        "gs_gbc.fit(x_train,y)\n",
        "gs_best = gs_gbc.best_estimator_\n",
        "\n",
        "rf_clf = RandomForestClassifier(n_estimators=100)\n",
        "rf_param = {\"max_depth\": [None],\"min_samples_split\": [2, 3,10],\"min_samples_leaf\": [1, 3, 10],\"bootstrap\": [False],\"n_estimators\" :[100,300],\"criterion\": [\"gini\"]}\n",
        "gs_rf = GridSearchCV(rf_clf,param_grid = rf_param, cv=kfold, scoring=\"accuracy\", verbose = 1)\n",
        "gs_rf.fit(x_train,y)\n",
        "rf_best = gs_rf.best_estimator_\n",
        "\n",
        "voting_clf = VotingClassifier(estimators=[('svc',svc_best),('rf',rf_best),('gs',gs_best)],voting='soft')\n",
        "voting_clf.fit(x_train,y)\n",
        "print(voting_clf.score(x_train,y))\n"
      ],
      "execution_count": 0,
      "outputs": []
    },
    {
      "cell_type": "code",
      "metadata": {
        "id": "Dt6L_K_QwAxE",
        "colab_type": "code",
        "colab": {}
      },
      "source": [
        " predict = voting_clf.predict(x_test)\n",
        " print(predict.shape)"
      ],
      "execution_count": 0,
      "outputs": []
    },
    {
      "cell_type": "code",
      "metadata": {
        "id": "ti406yKykpdC",
        "colab_type": "code",
        "colab": {}
      },
      "source": [
        "submission = pd.DataFrame(test[\"PassengerId\"],columns=['PassengerId'])\n",
        "submission['Survived']=predict\n",
        "\n",
        "submission.head()\n",
        "\n",
        "submission.to_csv('/gdrive/My Drive/titanic/submisiion.csv', index=False)"
      ],
      "execution_count": 0,
      "outputs": []
    }
  ]
}